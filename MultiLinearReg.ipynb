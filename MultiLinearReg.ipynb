{
 "cells": [
  {
   "cell_type": "code",
   "execution_count": 1,
   "metadata": {},
   "outputs": [
    {
     "name": "stdout",
     "output_type": "stream",
     "text": [
      "Requirement already satisfied: numpy in /home/varungunda/snap/jupyter/common/lib/python3.7/site-packages (1.19.5)\n",
      "Requirement already satisfied: pandas in /home/varungunda/snap/jupyter/common/lib/python3.7/site-packages (1.2.3)\n",
      "Requirement already satisfied: python-dateutil>=2.7.3 in /snap/jupyter/6/lib/python3.7/site-packages (from pandas) (2.8.0)\n",
      "Requirement already satisfied: pytz>=2017.3 in /home/varungunda/snap/jupyter/common/lib/python3.7/site-packages (from pandas) (2021.1)\n",
      "Requirement already satisfied: numpy>=1.16.5 in /home/varungunda/snap/jupyter/common/lib/python3.7/site-packages (from pandas) (1.19.5)\n",
      "Requirement already satisfied: six>=1.5 in /home/varungunda/snap/jupyter/common/lib/python3.7/site-packages (from python-dateutil>=2.7.3->pandas) (1.15.0)\n"
     ]
    }
   ],
   "source": [
    "!pip install numpy\n",
    "!pip install pandas\n"
   ]
  },
  {
   "cell_type": "code",
   "execution_count": 2,
   "metadata": {},
   "outputs": [
    {
     "name": "stdout",
     "output_type": "stream",
     "text": [
      "Requirement already satisfied: sklearn in /home/varungunda/snap/jupyter/common/lib/python3.7/site-packages (0.0)\n",
      "Requirement already satisfied: matplotlib in /home/varungunda/snap/jupyter/common/lib/python3.7/site-packages (3.4.0)\n",
      "Requirement already satisfied: scikit-learn in /home/varungunda/snap/jupyter/common/lib/python3.7/site-packages (from sklearn) (0.24.1)\n",
      "Requirement already satisfied: pyparsing>=2.2.1 in /home/varungunda/snap/jupyter/common/lib/python3.7/site-packages (from matplotlib) (2.4.7)\n",
      "Requirement already satisfied: cycler>=0.10 in /home/varungunda/snap/jupyter/common/lib/python3.7/site-packages (from matplotlib) (0.10.0)\n",
      "Requirement already satisfied: python-dateutil>=2.7 in /snap/jupyter/6/lib/python3.7/site-packages (from matplotlib) (2.8.0)\n",
      "Requirement already satisfied: numpy>=1.16 in /home/varungunda/snap/jupyter/common/lib/python3.7/site-packages (from matplotlib) (1.19.5)\n",
      "Requirement already satisfied: pillow>=6.2.0 in /home/varungunda/snap/jupyter/common/lib/python3.7/site-packages (from matplotlib) (8.1.2)\n",
      "Requirement already satisfied: kiwisolver>=1.0.1 in /home/varungunda/snap/jupyter/common/lib/python3.7/site-packages (from matplotlib) (1.3.1)\n",
      "Requirement already satisfied: threadpoolctl>=2.0.0 in /home/varungunda/snap/jupyter/common/lib/python3.7/site-packages (from scikit-learn->sklearn) (2.1.0)\n",
      "Requirement already satisfied: joblib>=0.11 in /home/varungunda/snap/jupyter/common/lib/python3.7/site-packages (from scikit-learn->sklearn) (1.0.1)\n",
      "Requirement already satisfied: scipy>=0.19.1 in /home/varungunda/snap/jupyter/common/lib/python3.7/site-packages (from scikit-learn->sklearn) (1.6.2)\n",
      "Requirement already satisfied: six in /home/varungunda/snap/jupyter/common/lib/python3.7/site-packages (from cycler>=0.10->matplotlib) (1.15.0)\n"
     ]
    }
   ],
   "source": [
    "!pip install sklearn matplotlib"
   ]
  },
  {
   "cell_type": "code",
   "execution_count": 3,
   "metadata": {},
   "outputs": [
    {
     "name": "stdout",
     "output_type": "stream",
     "text": [
      "Requirement already satisfied: pandas_datareader in /home/varungunda/snap/jupyter/common/lib/python3.7/site-packages (0.9.0)\n",
      "Requirement already satisfied: pandas>=0.23 in /home/varungunda/snap/jupyter/common/lib/python3.7/site-packages (from pandas_datareader) (1.2.3)\n",
      "Requirement already satisfied: lxml in /home/varungunda/snap/jupyter/common/lib/python3.7/site-packages (from pandas_datareader) (4.6.3)\n",
      "Requirement already satisfied: requests>=2.19.0 in /home/varungunda/snap/jupyter/common/lib/python3.7/site-packages (from pandas_datareader) (2.25.1)\n",
      "Requirement already satisfied: numpy>=1.16.5 in /home/varungunda/snap/jupyter/common/lib/python3.7/site-packages (from pandas>=0.23->pandas_datareader) (1.19.5)\n",
      "Requirement already satisfied: pytz>=2017.3 in /home/varungunda/snap/jupyter/common/lib/python3.7/site-packages (from pandas>=0.23->pandas_datareader) (2021.1)\n",
      "Requirement already satisfied: python-dateutil>=2.7.3 in /snap/jupyter/6/lib/python3.7/site-packages (from pandas>=0.23->pandas_datareader) (2.8.0)\n",
      "Requirement already satisfied: idna<3,>=2.5 in /home/varungunda/snap/jupyter/common/lib/python3.7/site-packages (from requests>=2.19.0->pandas_datareader) (2.10)\n",
      "Requirement already satisfied: urllib3<1.27,>=1.21.1 in /home/varungunda/snap/jupyter/common/lib/python3.7/site-packages (from requests>=2.19.0->pandas_datareader) (1.26.4)\n",
      "Requirement already satisfied: chardet<5,>=3.0.2 in /home/varungunda/snap/jupyter/common/lib/python3.7/site-packages (from requests>=2.19.0->pandas_datareader) (4.0.0)\n",
      "Requirement already satisfied: certifi>=2017.4.17 in /snap/jupyter/6/lib/python3.7/site-packages (from requests>=2.19.0->pandas_datareader) (2019.3.9)\n",
      "Requirement already satisfied: six>=1.5 in /home/varungunda/snap/jupyter/common/lib/python3.7/site-packages (from python-dateutil>=2.7.3->pandas>=0.23->pandas_datareader) (1.15.0)\n",
      "Requirement already satisfied: datetime in /home/varungunda/snap/jupyter/common/lib/python3.7/site-packages (4.3)\n",
      "Requirement already satisfied: zope.interface in /home/varungunda/snap/jupyter/common/lib/python3.7/site-packages (from datetime) (5.3.0)\n",
      "Requirement already satisfied: pytz in /home/varungunda/snap/jupyter/common/lib/python3.7/site-packages (from datetime) (2021.1)\n",
      "Requirement already satisfied: setuptools in /snap/jupyter/6/lib/python3.7/site-packages (from zope.interface->datetime) (41.0.1)\n"
     ]
    }
   ],
   "source": [
    "!pip install pandas_datareader\n",
    "!pip install datetime"
   ]
  },
  {
   "cell_type": "code",
   "execution_count": 27,
   "metadata": {},
   "outputs": [
    {
     "data": {
      "text/plain": [
       "'\\nThis code is for Multi Linear Regression. Included the analysis and Graphs in this.\\n'"
      ]
     },
     "execution_count": 27,
     "metadata": {},
     "output_type": "execute_result"
    }
   ],
   "source": [
    "\"\"\"\n",
    "This code is for Multi Linear Regression. Included the analysis and Graphs in this.\n",
    "\"\"\""
   ]
  },
  {
   "cell_type": "code",
   "execution_count": 4,
   "metadata": {},
   "outputs": [
    {
     "name": "stderr",
     "output_type": "stream",
     "text": [
      "/home/varungunda/snap/jupyter/common/lib/python3.7/site-packages/joblib/_multiprocessing_helpers.py:45: UserWarning: [Errno 13] Permission denied.  joblib will operate in serial mode\n",
      "  warnings.warn('%s.  joblib will operate in serial mode' % (e,))\n"
     ]
    }
   ],
   "source": [
    "#Importing libraries\n",
    "\n",
    "#For fast numerical operations on matrices\n",
    "import numpy as np\n",
    "\n",
    "#For dataframes\n",
    "import pandas as pd\n",
    "\n",
    "#Linear regression library\n",
    "from sklearn.model_selection import train_test_split\n",
    "from sklearn.linear_model import LinearRegression\n",
    "from sklearn.preprocessing import LabelEncoder\n",
    "from sklearn.metrics import mean_squared_error\n",
    "\n",
    "#Plotting tool\n",
    "import matplotlib.pyplot as plt\n",
    "\n",
    "\n",
    "#date time\n",
    "from datetime import datetime \n",
    "\n",
    "# For reading stock data from yahoo\n",
    "from pandas_datareader.data import DataReader\n"
   ]
  },
  {
   "cell_type": "code",
   "execution_count": 5,
   "metadata": {},
   "outputs": [
    {
     "name": "stdout",
     "output_type": "stream",
     "text": [
      "                   High          Low         Open        Close   Volume  \\\n",
      "Date                                                                      \n",
      "2016-05-09   686.979980   671.409973   673.950012   679.750000  3982200   \n",
      "2016-05-10   704.549988   693.500000   694.000000   703.070007  6105600   \n",
      "2016-05-11   719.000000   701.650024   705.789978   713.229980  7338200   \n",
      "2016-05-12   722.450012   711.510010   717.380005   717.929993  5048200   \n",
      "2016-05-13   719.250000   706.510010   714.640015   709.919983  4763400   \n",
      "...                 ...          ...          ...          ...      ...   \n",
      "2021-05-03  3486.649902  3372.699951  3484.729980  3386.489990  5875500   \n",
      "2021-05-04  3367.979980  3272.129883  3356.189941  3311.870117  5439400   \n",
      "2021-05-05  3354.699951  3264.360107  3338.860107  3270.540039  3711300   \n",
      "2021-05-06  3314.399902  3247.199951  3270.000000  3306.370117  4442600   \n",
      "2021-05-07  3330.780029  3289.070312  3319.090088  3291.610107  4506685   \n",
      "\n",
      "              Adj Close  \n",
      "Date                     \n",
      "2016-05-09   679.750000  \n",
      "2016-05-10   703.070007  \n",
      "2016-05-11   713.229980  \n",
      "2016-05-12   717.929993  \n",
      "2016-05-13   709.919983  \n",
      "...                 ...  \n",
      "2021-05-03  3386.489990  \n",
      "2021-05-04  3311.870117  \n",
      "2021-05-05  3270.540039  \n",
      "2021-05-06  3306.370117  \n",
      "2021-05-07  3291.610107  \n",
      "\n",
      "[1259 rows x 6 columns]\n"
     ]
    }
   ],
   "source": [
    "# Linear regression\n",
    "\n",
    "#Getting data from yahoo API\n",
    "\n",
    "# Set up End and Start times for data grab\n",
    "end = datetime.now()\n",
    "start = datetime(end.year - 5, end.month, end.day)\n",
    "\n",
    "amazon_df = DataReader('AMZN', 'yahoo', start, end)\n",
    "\n",
    "print(amazon_df)\n"
   ]
  },
  {
   "cell_type": "code",
   "execution_count": 6,
   "metadata": {},
   "outputs": [],
   "source": [
    "amazon_df[\"company_name\"] = \"AMAZON\""
   ]
  },
  {
   "cell_type": "code",
   "execution_count": 7,
   "metadata": {},
   "outputs": [
    {
     "name": "stdout",
     "output_type": "stream",
     "text": [
      "                   High          Low         Open        Close   Volume  \\\n",
      "Date                                                                      \n",
      "2016-05-09   686.979980   671.409973   673.950012   679.750000  3982200   \n",
      "2016-05-10   704.549988   693.500000   694.000000   703.070007  6105600   \n",
      "2016-05-11   719.000000   701.650024   705.789978   713.229980  7338200   \n",
      "2016-05-12   722.450012   711.510010   717.380005   717.929993  5048200   \n",
      "2016-05-13   719.250000   706.510010   714.640015   709.919983  4763400   \n",
      "...                 ...          ...          ...          ...      ...   \n",
      "2021-05-03  3486.649902  3372.699951  3484.729980  3386.489990  5875500   \n",
      "2021-05-04  3367.979980  3272.129883  3356.189941  3311.870117  5439400   \n",
      "2021-05-05  3354.699951  3264.360107  3338.860107  3270.540039  3711300   \n",
      "2021-05-06  3314.399902  3247.199951  3270.000000  3306.370117  4442600   \n",
      "2021-05-07  3330.780029  3289.070312  3319.090088  3291.610107  4506685   \n",
      "\n",
      "              Adj Close company_name  \n",
      "Date                                  \n",
      "2016-05-09   679.750000       AMAZON  \n",
      "2016-05-10   703.070007       AMAZON  \n",
      "2016-05-11   713.229980       AMAZON  \n",
      "2016-05-12   717.929993       AMAZON  \n",
      "2016-05-13   709.919983       AMAZON  \n",
      "...                 ...          ...  \n",
      "2021-05-03  3386.489990       AMAZON  \n",
      "2021-05-04  3311.870117       AMAZON  \n",
      "2021-05-05  3270.540039       AMAZON  \n",
      "2021-05-06  3306.370117       AMAZON  \n",
      "2021-05-07  3291.610107       AMAZON  \n",
      "\n",
      "[1259 rows x 7 columns]\n"
     ]
    }
   ],
   "source": [
    "print(amazon_df)"
   ]
  },
  {
   "cell_type": "code",
   "execution_count": 8,
   "metadata": {},
   "outputs": [],
   "source": [
    "data = amazon_df\n",
    "data = data.drop('Adj Close',axis=1) \n",
    "\n"
   ]
  },
  {
   "cell_type": "code",
   "execution_count": 9,
   "metadata": {},
   "outputs": [
    {
     "name": "stdout",
     "output_type": "stream",
     "text": [
      "             High          Low         Open        Close    Volume  \\\n",
      "0      669.979980   654.000000   666.000000   659.590027  10310700   \n",
      "1      685.500000   662.030029   663.919983   683.849976   6578500   \n",
      "2      680.299988   670.429993   677.359985   671.320007   4923400   \n",
      "3      674.000000   662.140015   662.590027   670.900024   4635500   \n",
      "4      676.489990   656.000000   673.309998   659.090027   4884100   \n",
      "...           ...          ...          ...          ...       ...   \n",
      "1254  3375.000000  3308.500000  3319.100098  3340.879883   3192800   \n",
      "1255  3428.449951  3330.939941  3348.000000  3409.000000   4880700   \n",
      "1256  3460.000000  3398.010010  3443.469971  3417.429932   3827100   \n",
      "1257  3489.879883  3425.000000  3434.800049  3458.500000   4610200   \n",
      "1258  3514.445068  3435.000000  3505.098145  3474.435059   4378005   \n",
      "\n",
      "     company_name  \n",
      "0          AMAZON  \n",
      "1          AMAZON  \n",
      "2          AMAZON  \n",
      "3          AMAZON  \n",
      "4          AMAZON  \n",
      "...           ...  \n",
      "1254       AMAZON  \n",
      "1255       AMAZON  \n",
      "1256       AMAZON  \n",
      "1257       AMAZON  \n",
      "1258       AMAZON  \n",
      "\n",
      "[1259 rows x 6 columns]\n"
     ]
    }
   ],
   "source": [
    "data.reset_index(drop=True,inplace=True)\n",
    "print(data)\n"
   ]
  },
  {
   "cell_type": "code",
   "execution_count": 9,
   "metadata": {},
   "outputs": [
    {
     "name": "stdout",
     "output_type": "stream",
     "text": [
      "                   High          Low         Open        Close   Volume\n",
      "Date                                                                   \n",
      "2016-05-09   686.979980   671.409973   673.950012   679.750000  3982200\n",
      "2016-05-10   704.549988   693.500000   694.000000   703.070007  6105600\n",
      "2016-05-11   719.000000   701.650024   705.789978   713.229980  7338200\n",
      "2016-05-12   722.450012   711.510010   717.380005   717.929993  5048200\n",
      "2016-05-13   719.250000   706.510010   714.640015   709.919983  4763400\n",
      "...                 ...          ...          ...          ...      ...\n",
      "2021-05-03  3486.649902  3372.699951  3484.729980  3386.489990  5875500\n",
      "2021-05-04  3367.979980  3272.129883  3356.189941  3311.870117  5439400\n",
      "2021-05-05  3354.699951  3264.360107  3338.860107  3270.540039  3711300\n",
      "2021-05-06  3314.399902  3247.199951  3270.000000  3306.370117  4442600\n",
      "2021-05-07  3330.780029  3289.070312  3319.090088  3291.610107  4506685\n",
      "\n",
      "[1259 rows x 5 columns]\n"
     ]
    }
   ],
   "source": [
    "data = data.drop('company_name',axis=1)\n",
    "print(data)"
   ]
  },
  {
   "cell_type": "code",
   "execution_count": 10,
   "metadata": {},
   "outputs": [],
   "source": [
    "data_X = data.loc[:,data.columns !=  'Close' ]\n",
    "data_Y = data['Close']\n"
   ]
  },
  {
   "cell_type": "code",
   "execution_count": 11,
   "metadata": {
    "scrolled": true
   },
   "outputs": [],
   "source": [
    "train_X, test_X, train_y,test_y = train_test_split(data_X,data_Y,test_size=0.25)\n"
   ]
  },
  {
   "cell_type": "code",
   "execution_count": 12,
   "metadata": {},
   "outputs": [
    {
     "name": "stdout",
     "output_type": "stream",
     "text": [
      "[ 7.90668348e-01  8.15046922e-01 -6.06895390e-01  1.94845095e-07]\n",
      "2.268904453505229\n"
     ]
    }
   ],
   "source": [
    "#Creating the Regressor\n",
    "regressor = LinearRegression()\n",
    "regressor.fit(train_X,train_y)\n",
    "print(regressor.coef_)\n",
    "print(regressor.intercept_)"
   ]
  },
  {
   "cell_type": "code",
   "execution_count": 13,
   "metadata": {},
   "outputs": [
    {
     "name": "stdout",
     "output_type": "stream",
     "text": [
      "Prediction Score :  0.9996147009490315\n",
      "Mean Squared Error :  260.28965237265874\n"
     ]
    }
   ],
   "source": [
    "predict_y = regressor.predict(test_X)\n",
    "print('Prediction Score : ' , regressor.score(test_X,test_y))\n",
    "error = mean_squared_error(test_y,predict_y)\n",
    "print('Mean Squared Error : ',error)\n"
   ]
  },
  {
   "cell_type": "code",
   "execution_count": 14,
   "metadata": {},
   "outputs": [
    {
     "data": {
      "image/png": "[encoded data removed]",
      "text/plain": [
       "<Figure size 432x288 with 1 Axes>"
      ]
     },
     "metadata": {
      "needs_background": "light"
     },
     "output_type": "display_data"
    }
   ],
   "source": [
    "#Plot the predicted and the expected values\n",
    "fig = plt.figure()\n",
    "ax = plt.axes()\n",
    "ax.grid()\n",
    "ax.set(xlabel='Sample',ylabel='Prediction Error (%)', title='Amazon Stock Prediction using Linear Regression')\n",
    "ax.plot(((test_y-predict_y) / test_y)*100 ,marker = 'o',linestyle='')\n",
    "#ax.plot(test_X['Open'],predict_y)\n",
    "fig.savefig('LRPlot.png')\n",
    "plt.show()\n"
   ]
  },
  {
   "cell_type": "code",
   "execution_count": 15,
   "metadata": {
    "scrolled": false
   },
   "outputs": [
    {
     "data": {
      "text/html": [
       "<div>\n",
       "<style scoped>\n",
       "    .dataframe tbody tr th:only-of-type {\n",
       "        vertical-align: middle;\n",
       "    }\n",
       "\n",
       "    .dataframe tbody tr th {\n",
       "        vertical-align: top;\n",
       "    }\n",
       "\n",
       "    .dataframe thead th {\n",
       "        text-align: right;\n",
       "    }\n",
       "</style>\n",
       "<table border=\"1\" class=\"dataframe\">\n",
       "  <thead>\n",
       "    <tr style=\"text-align: right;\">\n",
       "      <th></th>\n",
       "      <th>High</th>\n",
       "      <th>Low</th>\n",
       "      <th>Open</th>\n",
       "      <th>Close</th>\n",
       "      <th>Volume</th>\n",
       "    </tr>\n",
       "  </thead>\n",
       "  <tbody>\n",
       "    <tr>\n",
       "      <th>High</th>\n",
       "      <td>1.000000</td>\n",
       "      <td>0.999517</td>\n",
       "      <td>0.999706</td>\n",
       "      <td>0.999647</td>\n",
       "      <td>0.120549</td>\n",
       "    </tr>\n",
       "    <tr>\n",
       "      <th>Low</th>\n",
       "      <td>0.999517</td>\n",
       "      <td>1.000000</td>\n",
       "      <td>0.999589</td>\n",
       "      <td>0.999674</td>\n",
       "      <td>0.099751</td>\n",
       "    </tr>\n",
       "    <tr>\n",
       "      <th>Open</th>\n",
       "      <td>0.999706</td>\n",
       "      <td>0.999589</td>\n",
       "      <td>1.000000</td>\n",
       "      <td>0.999276</td>\n",
       "      <td>0.112115</td>\n",
       "    </tr>\n",
       "    <tr>\n",
       "      <th>Close</th>\n",
       "      <td>0.999647</td>\n",
       "      <td>0.999674</td>\n",
       "      <td>0.999276</td>\n",
       "      <td>1.000000</td>\n",
       "      <td>0.109810</td>\n",
       "    </tr>\n",
       "    <tr>\n",
       "      <th>Volume</th>\n",
       "      <td>0.120549</td>\n",
       "      <td>0.099751</td>\n",
       "      <td>0.112115</td>\n",
       "      <td>0.109810</td>\n",
       "      <td>1.000000</td>\n",
       "    </tr>\n",
       "  </tbody>\n",
       "</table>\n",
       "</div>"
      ],
      "text/plain": [
       "            High       Low      Open     Close    Volume\n",
       "High    1.000000  0.999517  0.999706  0.999647  0.120549\n",
       "Low     0.999517  1.000000  0.999589  0.999674  0.099751\n",
       "Open    0.999706  0.999589  1.000000  0.999276  0.112115\n",
       "Close   0.999647  0.999674  0.999276  1.000000  0.109810\n",
       "Volume  0.120549  0.099751  0.112115  0.109810  1.000000"
      ]
     },
     "execution_count": 15,
     "metadata": {},
     "output_type": "execute_result"
    }
   ],
   "source": [
    "#Finding the correlation\n",
    "corr = data.corr(method='pearson')\n",
    "corr"
   ]
  },
  {
   "cell_type": "code",
   "execution_count": 16,
   "metadata": {},
   "outputs": [
    {
     "name": "stdout",
     "output_type": "stream",
     "text": [
      "                   Open        Close   Volume\n",
      "Date                                         \n",
      "2016-05-09   673.950012   679.750000  3982200\n",
      "2016-05-10   694.000000   703.070007  6105600\n",
      "2016-05-11   705.789978   713.229980  7338200\n",
      "2016-05-12   717.380005   717.929993  5048200\n",
      "2016-05-13   714.640015   709.919983  4763400\n",
      "...                 ...          ...      ...\n",
      "2021-05-03  3484.729980  3386.489990  5875500\n",
      "2021-05-04  3356.189941  3311.870117  5439400\n",
      "2021-05-05  3338.860107  3270.540039  3711300\n",
      "2021-05-06  3270.000000  3306.370117  4442600\n",
      "2021-05-07  3319.090088  3291.610107  4506685\n",
      "\n",
      "[1259 rows x 3 columns]\n"
     ]
    }
   ],
   "source": [
    "\n",
    "data = data.drop(['High','Low'],axis=1)\n",
    "print(data)"
   ]
  },
  {
   "cell_type": "code",
   "execution_count": 17,
   "metadata": {},
   "outputs": [
    {
     "name": "stdout",
     "output_type": "stream",
     "text": [
      "Prediction Score :  0.99849282837566\n",
      "Mean Squared Error :  989.7308035217903\n",
      "1.1184614172631164\n"
     ]
    }
   ],
   "source": [
    "data_X = data.loc[:,data.columns !=  'Close' ]\n",
    "data_Y = data['Close']\n",
    "train_X, test_X, train_y,test_y = train_test_split(data_X,data_Y,test_size=0.25)\n",
    "regressor = LinearRegression()\n",
    "\n",
    "#Feature scaling is present here as inbuilt feature\n",
    "regressor.fit(train_X,train_y)\n",
    "predict_y = regressor.predict(test_X)\n",
    "print('Prediction Score : ' , regressor.score(test_X,test_y))\n",
    "error = mean_squared_error(test_y,predict_y)\n",
    "print('Mean Squared Error : ',error)\n",
    "print(np.mean(np.abs((test_y - predict_y) / test_y)) * 100)\n"
   ]
  },
  {
   "cell_type": "code",
   "execution_count": 25,
   "metadata": {},
   "outputs": [
    {
     "name": "stdout",
     "output_type": "stream",
     "text": [
      "[ 9.96634536e-01 -5.26047963e-07]\n",
      "6.876360586349847\n",
      "Date\n",
      "2016-05-09     679.750000\n",
      "2016-05-10     703.070007\n",
      "2016-05-11     713.229980\n",
      "2016-05-12     717.929993\n",
      "2016-05-13     709.919983\n",
      "                 ...     \n",
      "2021-05-03    3386.489990\n",
      "2021-05-04    3311.870117\n",
      "2021-05-05    3270.540039\n",
      "2021-05-06    3306.370117\n",
      "2021-05-07    3291.610107\n",
      "Name: Close, Length: 1259, dtype: float64\n"
     ]
    },
    {
     "data": {
      "text/plain": [
       "<matplotlib.legend.Legend at 0x7f62171f9f28>"
      ]
     },
     "execution_count": 25,
     "metadata": {},
     "output_type": "execute_result"
    },
    {
     "data": {
      "image/png": "[encoded data removed]",
      "text/plain": [
       "<Figure size 1152x576 with 1 Axes>"
      ]
     },
     "metadata": {
      "needs_background": "light"
     },
     "output_type": "display_data"
    }
   ],
   "source": [
    "plt.figure(figsize=(16,8))\n",
    "plt.title('Multi Linear Regression Model')\n",
    "plt.xlabel('Sample',fontsize=18)\n",
    "plt.ylabel('Close Price USD($)',fontsize=18)\n",
    "print(regressor.coef_)\n",
    "print(regressor.intercept_)\n",
    "print(data['Close'])\n",
    "close_pred = []\n",
    "actual_val = []\n",
    "\n",
    "for i in range(len(data_X)):\n",
    "    val = data_X['Open'][i]* regressor.coef_[0] - data_X['Volume'][i] * regressor.coef_[1] + regressor.intercept_ \n",
    "    close_pred.append(val)\n",
    "    actual_val.append(data_Y[i])\n",
    "\n",
    "plt.plot(actual_val)\n",
    "plt.plot(close_pred)\n",
    "plt.legend(['True Value','Predicted Value'])"
   ]
  }
 ],
 "metadata": {
  "kernelspec": {
   "display_name": "Python 3",
   "language": "python",
   "name": "python3"
  },
  "language_info": {
   "codemirror_mode": {
    "name": "ipython",
    "version": 3
   },
   "file_extension": ".py",
   "mimetype": "text/x-python",
   "name": "python",
   "nbconvert_exporter": "python",
   "pygments_lexer": "ipython3",
   "version": "3.7.3"
  }
 },
 "nbformat": 4,
 "nbformat_minor": 2
}
