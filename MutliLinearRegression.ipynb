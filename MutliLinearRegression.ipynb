{
  "nbformat": 4,
  "nbformat_minor": 0,
  "metadata": {
    "colab": {
      "name": "MutliLinearRegression.ipynb",
      "provenance": []
    },
    "kernelspec": {
      "name": "python3",
      "display_name": "Python 3"
    },
    "language_info": {
      "name": "python"
    }
  },
  "cells": [
    {
      "cell_type": "code",
      "metadata": {
        "colab": {
          "base_uri": "https://localhost:8080/"
        },
        "id": "d4Q0AHMqyEVN",
        "outputId": "d4d439e5-475a-4f05-ba28-28f6d161c758"
      },
      "source": [
        "!pip install numpy\n",
        "!pip install pandas"
      ],
      "execution_count": 1,
      "outputs": [
        {
          "output_type": "stream",
          "text": [
            "Requirement already satisfied: numpy in /usr/local/lib/python3.7/dist-packages (1.19.5)\n",
            "Requirement already satisfied: pandas in /usr/local/lib/python3.7/dist-packages (1.1.5)\n",
            "Requirement already satisfied: pytz>=2017.2 in /usr/local/lib/python3.7/dist-packages (from pandas) (2018.9)\n",
            "Requirement already satisfied: python-dateutil>=2.7.3 in /usr/local/lib/python3.7/dist-packages (from pandas) (2.8.1)\n",
            "Requirement already satisfied: numpy>=1.15.4 in /usr/local/lib/python3.7/dist-packages (from pandas) (1.19.5)\n",
            "Requirement already satisfied: six>=1.5 in /usr/local/lib/python3.7/dist-packages (from python-dateutil>=2.7.3->pandas) (1.15.0)\n"
          ],
          "name": "stdout"
        }
      ]
    },
    {
      "cell_type": "code",
      "metadata": {
        "colab": {
          "base_uri": "https://localhost:8080/"
        },
        "id": "TstRHzHmyJGI",
        "outputId": "cbdae0db-6346-4b5b-935b-9b2b0da72776"
      },
      "source": [
        "!pip install sklearn matplotlib"
      ],
      "execution_count": 2,
      "outputs": [
        {
          "output_type": "stream",
          "text": [
            "Requirement already satisfied: sklearn in /usr/local/lib/python3.7/dist-packages (0.0)\n",
            "Requirement already satisfied: matplotlib in /usr/local/lib/python3.7/dist-packages (3.2.2)\n",
            "Requirement already satisfied: scikit-learn in /usr/local/lib/python3.7/dist-packages (from sklearn) (0.22.2.post1)\n",
            "Requirement already satisfied: pyparsing!=2.0.4,!=2.1.2,!=2.1.6,>=2.0.1 in /usr/local/lib/python3.7/dist-packages (from matplotlib) (2.4.7)\n",
            "Requirement already satisfied: cycler>=0.10 in /usr/local/lib/python3.7/dist-packages (from matplotlib) (0.10.0)\n",
            "Requirement already satisfied: kiwisolver>=1.0.1 in /usr/local/lib/python3.7/dist-packages (from matplotlib) (1.3.1)\n",
            "Requirement already satisfied: numpy>=1.11 in /usr/local/lib/python3.7/dist-packages (from matplotlib) (1.19.5)\n",
            "Requirement already satisfied: python-dateutil>=2.1 in /usr/local/lib/python3.7/dist-packages (from matplotlib) (2.8.1)\n",
            "Requirement already satisfied: scipy>=0.17.0 in /usr/local/lib/python3.7/dist-packages (from scikit-learn->sklearn) (1.4.1)\n",
            "Requirement already satisfied: joblib>=0.11 in /usr/local/lib/python3.7/dist-packages (from scikit-learn->sklearn) (1.0.1)\n",
            "Requirement already satisfied: six in /usr/local/lib/python3.7/dist-packages (from cycler>=0.10->matplotlib) (1.15.0)\n"
          ],
          "name": "stdout"
        }
      ]
    },
    {
      "cell_type": "code",
      "metadata": {
        "colab": {
          "base_uri": "https://localhost:8080/"
        },
        "id": "6XNxgJaCyLnU",
        "outputId": "2ce97389-5cce-41d9-e53d-8dfe868bedc2"
      },
      "source": [
        "!pip install pandas_datareader\n",
        "!pip install datetime"
      ],
      "execution_count": 3,
      "outputs": [
        {
          "output_type": "stream",
          "text": [
            "Requirement already satisfied: pandas_datareader in /usr/local/lib/python3.7/dist-packages (0.9.0)\n",
            "Requirement already satisfied: lxml in /usr/local/lib/python3.7/dist-packages (from pandas_datareader) (4.2.6)\n",
            "Requirement already satisfied: requests>=2.19.0 in /usr/local/lib/python3.7/dist-packages (from pandas_datareader) (2.23.0)\n",
            "Requirement already satisfied: pandas>=0.23 in /usr/local/lib/python3.7/dist-packages (from pandas_datareader) (1.1.5)\n",
            "Requirement already satisfied: idna<3,>=2.5 in /usr/local/lib/python3.7/dist-packages (from requests>=2.19.0->pandas_datareader) (2.10)\n",
            "Requirement already satisfied: certifi>=2017.4.17 in /usr/local/lib/python3.7/dist-packages (from requests>=2.19.0->pandas_datareader) (2020.12.5)\n",
            "Requirement already satisfied: chardet<4,>=3.0.2 in /usr/local/lib/python3.7/dist-packages (from requests>=2.19.0->pandas_datareader) (3.0.4)\n",
            "Requirement already satisfied: urllib3!=1.25.0,!=1.25.1,<1.26,>=1.21.1 in /usr/local/lib/python3.7/dist-packages (from requests>=2.19.0->pandas_datareader) (1.24.3)\n",
            "Requirement already satisfied: pytz>=2017.2 in /usr/local/lib/python3.7/dist-packages (from pandas>=0.23->pandas_datareader) (2018.9)\n",
            "Requirement already satisfied: python-dateutil>=2.7.3 in /usr/local/lib/python3.7/dist-packages (from pandas>=0.23->pandas_datareader) (2.8.1)\n",
            "Requirement already satisfied: numpy>=1.15.4 in /usr/local/lib/python3.7/dist-packages (from pandas>=0.23->pandas_datareader) (1.19.5)\n",
            "Requirement already satisfied: six>=1.5 in /usr/local/lib/python3.7/dist-packages (from python-dateutil>=2.7.3->pandas>=0.23->pandas_datareader) (1.15.0)\n",
            "Collecting datetime\n",
            "\u001b[?25l  Downloading https://files.pythonhosted.org/packages/73/22/a5297f3a1f92468cc737f8ce7ba6e5f245fcfafeae810ba37bd1039ea01c/DateTime-4.3-py2.py3-none-any.whl (60kB)\n",
            "\u001b[K     |████████████████████████████████| 61kB 3.7MB/s \n",
            "\u001b[?25hCollecting zope.interface\n",
            "\u001b[?25l  Downloading https://files.pythonhosted.org/packages/bb/a7/94e1a92c71436f934cdd2102826fa041c83dcb7d21dd0f1fb1a57f6e0620/zope.interface-5.4.0-cp37-cp37m-manylinux2010_x86_64.whl (251kB)\n",
            "\u001b[K     |████████████████████████████████| 256kB 9.9MB/s \n",
            "\u001b[?25hRequirement already satisfied: pytz in /usr/local/lib/python3.7/dist-packages (from datetime) (2018.9)\n",
            "Requirement already satisfied: setuptools in /usr/local/lib/python3.7/dist-packages (from zope.interface->datetime) (56.1.0)\n",
            "Installing collected packages: zope.interface, datetime\n",
            "Successfully installed datetime-4.3 zope.interface-5.4.0\n"
          ],
          "name": "stdout"
        }
      ]
    },
    {
      "cell_type": "code",
      "metadata": {
        "colab": {
          "base_uri": "https://localhost:8080/",
          "height": 37
        },
        "id": "eqkLWge8yOin",
        "outputId": "0021ca21-c6c8-41e3-cce4-7b981a6e9170"
      },
      "source": [
        "\"\"\"\n",
        "This code is for Multi Linear Regression. Included the analysis and Graphs in this.\n",
        "\"\"\""
      ],
      "execution_count": 4,
      "outputs": [
        {
          "output_type": "execute_result",
          "data": {
            "application/vnd.google.colaboratory.intrinsic+json": {
              "type": "string"
            },
            "text/plain": [
              "'\\nThis code is for Multi Linear Regression. Included the analysis and Graphs in this.\\n'"
            ]
          },
          "metadata": {
            "tags": []
          },
          "execution_count": 4
        }
      ]
    },
    {
      "cell_type": "code",
      "metadata": {
        "id": "G2BwS4zwyPJb"
      },
      "source": [
        "#Importing libraries\n",
        "\n",
        "#For fast numerical operations on matrices\n",
        "import numpy as np\n",
        "\n",
        "#For dataframes\n",
        "import pandas as pd\n",
        "\n",
        "#Linear regression library\n",
        "from sklearn.model_selection import train_test_split\n",
        "from sklearn.linear_model import LinearRegression\n",
        "from sklearn.preprocessing import LabelEncoder\n",
        "from sklearn.metrics import mean_squared_error\n",
        "\n",
        "#Plotting tool\n",
        "import matplotlib.pyplot as plt\n",
        "\n",
        "\n",
        "#date time\n",
        "from datetime import datetime \n",
        "\n",
        "# For reading stock data from yahoo\n",
        "from pandas_datareader.data import DataReader"
      ],
      "execution_count": 5,
      "outputs": []
    },
    {
      "cell_type": "code",
      "metadata": {
        "colab": {
          "base_uri": "https://localhost:8080/"
        },
        "id": "sqM_l5qIySW4",
        "outputId": "d93ed49b-65a2-4263-cd16-90955d44d49d"
      },
      "source": [
        "# Linear regression\n",
        "\n",
        "#Getting data from yahoo API\n",
        "\n",
        "# Set up End and Start times for data grab\n",
        "end = datetime.now()\n",
        "start = datetime(end.year - 5, end.month, end.day)\n",
        "\n",
        "amazon_df = DataReader('AMZN', 'yahoo', start, end)\n",
        "\n",
        "print(amazon_df)"
      ],
      "execution_count": 6,
      "outputs": [
        {
          "output_type": "stream",
          "text": [
            "                   High          Low  ...   Volume    Adj Close\n",
            "Date                                  ...                      \n",
            "2016-05-09   686.979980   671.409973  ...  3982200   679.750000\n",
            "2016-05-10   704.549988   693.500000  ...  6105600   703.070007\n",
            "2016-05-11   719.000000   701.650024  ...  7338200   713.229980\n",
            "2016-05-12   722.450012   711.510010  ...  5048200   717.929993\n",
            "2016-05-13   719.250000   706.510010  ...  4763400   709.919983\n",
            "...                 ...          ...  ...      ...          ...\n",
            "2021-05-03  3486.649902  3372.699951  ...  5875500  3386.489990\n",
            "2021-05-04  3367.979980  3272.129883  ...  5439400  3311.870117\n",
            "2021-05-05  3354.699951  3264.360107  ...  3711300  3270.540039\n",
            "2021-05-06  3314.399902  3247.199951  ...  4442600  3306.370117\n",
            "2021-05-07  3330.780029  3289.070312  ...  4506685  3291.610107\n",
            "\n",
            "[1259 rows x 6 columns]\n"
          ],
          "name": "stdout"
        }
      ]
    },
    {
      "cell_type": "code",
      "metadata": {
        "id": "_gVYRjxcyVl7"
      },
      "source": [
        "amazon_df[\"company_name\"] = \"AMAZON\""
      ],
      "execution_count": 7,
      "outputs": []
    },
    {
      "cell_type": "code",
      "metadata": {
        "colab": {
          "base_uri": "https://localhost:8080/"
        },
        "id": "3oGpRCEkyYbx",
        "outputId": "40c556ad-4194-45ed-a7d9-f7d5f9a2031e"
      },
      "source": [
        "print(amazon_df)"
      ],
      "execution_count": 8,
      "outputs": [
        {
          "output_type": "stream",
          "text": [
            "                   High          Low  ...    Adj Close  company_name\n",
            "Date                                  ...                           \n",
            "2016-05-09   686.979980   671.409973  ...   679.750000        AMAZON\n",
            "2016-05-10   704.549988   693.500000  ...   703.070007        AMAZON\n",
            "2016-05-11   719.000000   701.650024  ...   713.229980        AMAZON\n",
            "2016-05-12   722.450012   711.510010  ...   717.929993        AMAZON\n",
            "2016-05-13   719.250000   706.510010  ...   709.919983        AMAZON\n",
            "...                 ...          ...  ...          ...           ...\n",
            "2021-05-03  3486.649902  3372.699951  ...  3386.489990        AMAZON\n",
            "2021-05-04  3367.979980  3272.129883  ...  3311.870117        AMAZON\n",
            "2021-05-05  3354.699951  3264.360107  ...  3270.540039        AMAZON\n",
            "2021-05-06  3314.399902  3247.199951  ...  3306.370117        AMAZON\n",
            "2021-05-07  3330.780029  3289.070312  ...  3291.610107        AMAZON\n",
            "\n",
            "[1259 rows x 7 columns]\n"
          ],
          "name": "stdout"
        }
      ]
    },
    {
      "cell_type": "code",
      "metadata": {
        "id": "5qZe-EY2ybOJ"
      },
      "source": [
        "data = amazon_df\n",
        "data = data.drop('Adj Close',axis=1)"
      ],
      "execution_count": 9,
      "outputs": []
    },
    {
      "cell_type": "code",
      "metadata": {
        "colab": {
          "base_uri": "https://localhost:8080/"
        },
        "id": "JY7Bsmarydxv",
        "outputId": "7dc4e071-78f3-4ba0-84d5-26c1c5dbd77f"
      },
      "source": [
        "data.reset_index(drop=True,inplace=True)\n",
        "print(data)"
      ],
      "execution_count": 10,
      "outputs": [
        {
          "output_type": "stream",
          "text": [
            "             High          Low         Open        Close   Volume company_name\n",
            "0      686.979980   671.409973   673.950012   679.750000  3982200       AMAZON\n",
            "1      704.549988   693.500000   694.000000   703.070007  6105600       AMAZON\n",
            "2      719.000000   701.650024   705.789978   713.229980  7338200       AMAZON\n",
            "3      722.450012   711.510010   717.380005   717.929993  5048200       AMAZON\n",
            "4      719.250000   706.510010   714.640015   709.919983  4763400       AMAZON\n",
            "...           ...          ...          ...          ...      ...          ...\n",
            "1254  3486.649902  3372.699951  3484.729980  3386.489990  5875500       AMAZON\n",
            "1255  3367.979980  3272.129883  3356.189941  3311.870117  5439400       AMAZON\n",
            "1256  3354.699951  3264.360107  3338.860107  3270.540039  3711300       AMAZON\n",
            "1257  3314.399902  3247.199951  3270.000000  3306.370117  4442600       AMAZON\n",
            "1258  3330.780029  3289.070312  3319.090088  3291.610107  4506685       AMAZON\n",
            "\n",
            "[1259 rows x 6 columns]\n"
          ],
          "name": "stdout"
        }
      ]
    },
    {
      "cell_type": "code",
      "metadata": {
        "colab": {
          "base_uri": "https://localhost:8080/"
        },
        "id": "fj74rYccyf1C",
        "outputId": "4c83c5e3-2d4e-460e-ff33-226a02782bd9"
      },
      "source": [
        "data = data.drop('company_name',axis=1)\n",
        "print(data)"
      ],
      "execution_count": 11,
      "outputs": [
        {
          "output_type": "stream",
          "text": [
            "             High          Low         Open        Close   Volume\n",
            "0      686.979980   671.409973   673.950012   679.750000  3982200\n",
            "1      704.549988   693.500000   694.000000   703.070007  6105600\n",
            "2      719.000000   701.650024   705.789978   713.229980  7338200\n",
            "3      722.450012   711.510010   717.380005   717.929993  5048200\n",
            "4      719.250000   706.510010   714.640015   709.919983  4763400\n",
            "...           ...          ...          ...          ...      ...\n",
            "1254  3486.649902  3372.699951  3484.729980  3386.489990  5875500\n",
            "1255  3367.979980  3272.129883  3356.189941  3311.870117  5439400\n",
            "1256  3354.699951  3264.360107  3338.860107  3270.540039  3711300\n",
            "1257  3314.399902  3247.199951  3270.000000  3306.370117  4442600\n",
            "1258  3330.780029  3289.070312  3319.090088  3291.610107  4506685\n",
            "\n",
            "[1259 rows x 5 columns]\n"
          ],
          "name": "stdout"
        }
      ]
    },
    {
      "cell_type": "code",
      "metadata": {
        "id": "qwjFczhByiUJ"
      },
      "source": [
        "data_X = data.loc[:,data.columns !=  'Close' ]\n",
        "data_Y = data['Close']"
      ],
      "execution_count": 12,
      "outputs": []
    },
    {
      "cell_type": "code",
      "metadata": {
        "id": "Chota4W5ykvC"
      },
      "source": [
        "train_X, test_X, train_y,test_y = train_test_split(data_X,data_Y,test_size=0.25)"
      ],
      "execution_count": 13,
      "outputs": []
    },
    {
      "cell_type": "code",
      "metadata": {
        "colab": {
          "base_uri": "https://localhost:8080/"
        },
        "id": "iLwuKrcMynTH",
        "outputId": "bc81263c-f1ee-44fb-ab9a-99af8d523d2d"
      },
      "source": [
        "#Creating the Regressor\n",
        "regressor = LinearRegression()\n",
        "regressor.fit(train_X,train_y)\n",
        "print(regressor.coef_)\n",
        "print(regressor.intercept_)"
      ],
      "execution_count": 14,
      "outputs": [
        {
          "output_type": "stream",
          "text": [
            "[ 7.54627763e-01  7.96601246e-01 -5.50937406e-01  2.63885882e-07]\n",
            "0.20094890824680078\n"
          ],
          "name": "stdout"
        }
      ]
    },
    {
      "cell_type": "code",
      "metadata": {
        "colab": {
          "base_uri": "https://localhost:8080/"
        },
        "id": "tq0fwpTgypdz",
        "outputId": "8511cfed-76ea-4a47-96e4-071f5c3baeaa"
      },
      "source": [
        "predict_y = regressor.predict(test_X)\n",
        "print('Prediction Score : ' , regressor.score(test_X,test_y))\n",
        "error = mean_squared_error(test_y,predict_y)\n",
        "print('Mean Squared Error : ',error)"
      ],
      "execution_count": 15,
      "outputs": [
        {
          "output_type": "stream",
          "text": [
            "Prediction Score :  0.9997228242224382\n",
            "Mean Squared Error :  177.67300123218217\n"
          ],
          "name": "stdout"
        }
      ]
    },
    {
      "cell_type": "code",
      "metadata": {
        "colab": {
          "base_uri": "https://localhost:8080/",
          "height": 295
        },
        "id": "fpewuKoDyqCw",
        "outputId": "8796a76e-b0fd-490f-bb1d-05364ea4128d"
      },
      "source": [
        "#Plot the predicted and the expected values\n",
        "fig = plt.figure()\n",
        "ax = plt.axes()\n",
        "ax.grid()\n",
        "ax.set(xlabel='Sample',ylabel='Prediction Error (%)', title='Amazon Stock Prediction using Linear Regression')\n",
        "ax.plot(((test_y-predict_y) / test_y)*100 ,marker = 'o',linestyle='')\n",
        "#ax.plot(test_X['Open'],predict_y)\n",
        "fig.savefig('LRPlot.png')\n",
        "plt.show()"
      ],
      "execution_count": 16,
      "outputs": [
        {
          "output_type": "display_data",
          "data": {
            "image/png": "[encoded data removed]",
            "text/plain": [
              "<Figure size 432x288 with 1 Axes>"
            ]
          },
          "metadata": {
            "tags": [],
            "needs_background": "light"
          }
        }
      ]
    },
    {
      "cell_type": "code",
      "metadata": {
        "colab": {
          "base_uri": "https://localhost:8080/",
          "height": 204
        },
        "id": "TcTHc-mYyp-1",
        "outputId": "ccd7a388-e16a-422c-c124-c2d19ab83c5a"
      },
      "source": [
        "#Finding the correlation\n",
        "corr = data.corr(method='pearson')\n",
        "corr"
      ],
      "execution_count": 17,
      "outputs": [
        {
          "output_type": "execute_result",
          "data": {
            "text/html": [
              "<div>\n",
              "<style scoped>\n",
              "    .dataframe tbody tr th:only-of-type {\n",
              "        vertical-align: middle;\n",
              "    }\n",
              "\n",
              "    .dataframe tbody tr th {\n",
              "        vertical-align: top;\n",
              "    }\n",
              "\n",
              "    .dataframe thead th {\n",
              "        text-align: right;\n",
              "    }\n",
              "</style>\n",
              "<table border=\"1\" class=\"dataframe\">\n",
              "  <thead>\n",
              "    <tr style=\"text-align: right;\">\n",
              "      <th></th>\n",
              "      <th>High</th>\n",
              "      <th>Low</th>\n",
              "      <th>Open</th>\n",
              "      <th>Close</th>\n",
              "      <th>Volume</th>\n",
              "    </tr>\n",
              "  </thead>\n",
              "  <tbody>\n",
              "    <tr>\n",
              "      <th>High</th>\n",
              "      <td>1.000000</td>\n",
              "      <td>0.999517</td>\n",
              "      <td>0.999706</td>\n",
              "      <td>0.999647</td>\n",
              "      <td>0.120549</td>\n",
              "    </tr>\n",
              "    <tr>\n",
              "      <th>Low</th>\n",
              "      <td>0.999517</td>\n",
              "      <td>1.000000</td>\n",
              "      <td>0.999589</td>\n",
              "      <td>0.999674</td>\n",
              "      <td>0.099751</td>\n",
              "    </tr>\n",
              "    <tr>\n",
              "      <th>Open</th>\n",
              "      <td>0.999706</td>\n",
              "      <td>0.999589</td>\n",
              "      <td>1.000000</td>\n",
              "      <td>0.999276</td>\n",
              "      <td>0.112115</td>\n",
              "    </tr>\n",
              "    <tr>\n",
              "      <th>Close</th>\n",
              "      <td>0.999647</td>\n",
              "      <td>0.999674</td>\n",
              "      <td>0.999276</td>\n",
              "      <td>1.000000</td>\n",
              "      <td>0.109810</td>\n",
              "    </tr>\n",
              "    <tr>\n",
              "      <th>Volume</th>\n",
              "      <td>0.120549</td>\n",
              "      <td>0.099751</td>\n",
              "      <td>0.112115</td>\n",
              "      <td>0.109810</td>\n",
              "      <td>1.000000</td>\n",
              "    </tr>\n",
              "  </tbody>\n",
              "</table>\n",
              "</div>"
            ],
            "text/plain": [
              "            High       Low      Open     Close    Volume\n",
              "High    1.000000  0.999517  0.999706  0.999647  0.120549\n",
              "Low     0.999517  1.000000  0.999589  0.999674  0.099751\n",
              "Open    0.999706  0.999589  1.000000  0.999276  0.112115\n",
              "Close   0.999647  0.999674  0.999276  1.000000  0.109810\n",
              "Volume  0.120549  0.099751  0.112115  0.109810  1.000000"
            ]
          },
          "metadata": {
            "tags": []
          },
          "execution_count": 17
        }
      ]
    },
    {
      "cell_type": "code",
      "metadata": {
        "colab": {
          "base_uri": "https://localhost:8080/"
        },
        "id": "VsF-YudQyxFK",
        "outputId": "97089431-8029-4ad7-fb70-58babee04fb8"
      },
      "source": [
        "data = data.drop(['High','Low'],axis=1)\n",
        "print(data)"
      ],
      "execution_count": 18,
      "outputs": [
        {
          "output_type": "stream",
          "text": [
            "             Open        Close   Volume\n",
            "0      673.950012   679.750000  3982200\n",
            "1      694.000000   703.070007  6105600\n",
            "2      705.789978   713.229980  7338200\n",
            "3      717.380005   717.929993  5048200\n",
            "4      714.640015   709.919983  4763400\n",
            "...           ...          ...      ...\n",
            "1254  3484.729980  3386.489990  5875500\n",
            "1255  3356.189941  3311.870117  5439400\n",
            "1256  3338.860107  3270.540039  3711300\n",
            "1257  3270.000000  3306.370117  4442600\n",
            "1258  3319.090088  3291.610107  4506685\n",
            "\n",
            "[1259 rows x 3 columns]\n"
          ],
          "name": "stdout"
        }
      ]
    },
    {
      "cell_type": "code",
      "metadata": {
        "colab": {
          "base_uri": "https://localhost:8080/"
        },
        "id": "-iGcUFW-yzaj",
        "outputId": "8e6f7c3f-c1c5-4df3-caae-7a3758c06e34"
      },
      "source": [
        "data_X = data.loc[:,data.columns !=  'Close' ]\n",
        "data_Y = data['Close']\n",
        "train_X, test_X, train_y,test_y = train_test_split(data_X,data_Y,test_size=0.25)\n",
        "regressor = LinearRegression()\n",
        "\n",
        "#Feature scaling is present here as inbuilt feature\n",
        "regressor.fit(train_X,train_y)\n",
        "predict_y = regressor.predict(test_X)\n",
        "print('Prediction Score : ' , regressor.score(test_X,test_y))\n",
        "error = mean_squared_error(test_y,predict_y)\n",
        "print('Mean Squared Error : ',error)\n",
        "print(np.mean(np.abs((test_y - predict_y) / test_y)) * 100)"
      ],
      "execution_count": 19,
      "outputs": [
        {
          "output_type": "stream",
          "text": [
            "Prediction Score :  0.9982917354739483\n",
            "Mean Squared Error :  1090.6453287580273\n",
            "1.0963733516979315\n"
          ],
          "name": "stdout"
        }
      ]
    },
    {
      "cell_type": "code",
      "metadata": {
        "colab": {
          "base_uri": "https://localhost:8080/",
          "height": 776
        },
        "id": "UeU3SeJ6y2Mj",
        "outputId": "902043b4-212b-4e76-88ad-91187be35960"
      },
      "source": [
        "plt.figure(figsize=(16,8))\n",
        "plt.title('Multi Linear Regression Model')\n",
        "plt.xlabel('Sample',fontsize=18)\n",
        "plt.ylabel('Close Price USD($)',fontsize=18)\n",
        "print(regressor.coef_)\n",
        "print(regressor.intercept_)\n",
        "print(data['Close'])\n",
        "close_pred = []\n",
        "actual_val = []\n",
        "\n",
        "for i in range(len(data_X)):\n",
        "    val = data_X['Open'][i]* regressor.coef_[0] - data_X['Volume'][i] * regressor.coef_[1] + regressor.intercept_ \n",
        "    close_pred.append(val)\n",
        "    actual_val.append(data_Y[i])\n",
        "\n",
        "plt.plot(actual_val)\n",
        "plt.plot(close_pred)\n",
        "plt.legend(['True Value','Predicted Value'])"
      ],
      "execution_count": 20,
      "outputs": [
        {
          "output_type": "stream",
          "text": [
            "[ 9.98090183e-01 -1.94448962e-07]\n",
            "4.128289828879588\n",
            "0        679.750000\n",
            "1        703.070007\n",
            "2        713.229980\n",
            "3        717.929993\n",
            "4        709.919983\n",
            "           ...     \n",
            "1254    3386.489990\n",
            "1255    3311.870117\n",
            "1256    3270.540039\n",
            "1257    3306.370117\n",
            "1258    3291.610107\n",
            "Name: Close, Length: 1259, dtype: float64\n"
          ],
          "name": "stdout"
        },
        {
          "output_type": "execute_result",
          "data": {
            "text/plain": [
              "<matplotlib.legend.Legend at 0x7f836540bf10>"
            ]
          },
          "metadata": {
            "tags": []
          },
          "execution_count": 20
        },
        {
          "output_type": "display_data",
          "data": {
            "image/png": "[encoded data removed]",
            "text/plain": [
              "<Figure size 1152x576 with 1 Axes>"
            ]
          },
          "metadata": {
            "tags": [],
            "needs_background": "light"
          }
        }
      ]
    }
  ]
}